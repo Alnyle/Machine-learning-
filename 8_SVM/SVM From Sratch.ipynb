{
 "cells": [
  {
   "cell_type": "code",
   "execution_count": 7,
   "id": "387a0c16-df99-417b-b486-fc0cbb76bbbb",
   "metadata": {},
   "outputs": [],
   "source": [
    "import numpy as np\n",
    "# Imports\n",
    "from sklearn.model_selection import train_test_split\n",
    "from sklearn import datasets\n",
    "import matplotlib.pyplot as plt"
   ]
  },
  {
   "cell_type": "code",
   "execution_count": 36,
   "id": "4e9cdeec-1842-494b-a98c-65d12a1063da",
   "metadata": {},
   "outputs": [],
   "source": [
    "class SVM:\n",
    "\n",
    "    def __init__(self, learning_rate=0.001, lambda_param = 0.01, n_iters=1000):\n",
    "        self.lr = learning_rate\n",
    "        self.lambda_param = lambda_param\n",
    "        self.n_iters = n_iters\n",
    "        self.W = None\n",
    "        self.b = None\n",
    "        \n",
    "        \n",
    "    def fit(self, X, y):\n",
    "\n",
    "        n_samples, n_features = X.shape\n",
    "        \n",
    "\n",
    "        # initilzation weghts to zero\n",
    "        self.W = np.zeros(n_features)\n",
    "        self.b = 0\n",
    "\n",
    "        y_ = np.where(y <= 0, -1, 1)\n",
    "\n",
    "        for _ in range(self.n_iters):\n",
    "            for idx, x_i in enumerate(X):\n",
    "                condition = y_[idx] * (np.dot(x_i, self.W) - self.b) >= 1\n",
    "                if condition:\n",
    "                    self.W = self.W - self.lr  * (2 * self.lambda_param *  self.W)\n",
    "                else:\n",
    "                    self.W = self.W - self.lr *  (2 * self.lambda_param * self.W  - np.dot(x_i, y_[idx]))\n",
    "                    self.b = self.b - self.lr * y_[idx]\n",
    "                    \n",
    "    def predict(self, X):\n",
    "        approx = np.dot(X, self.W) - self.b\n",
    "        return np.sign(approx)\n",
    "\n",
    "\n",
    "\n",
    "\n",
    "\n"
   ]
  },
  {
   "cell_type": "code",
   "execution_count": 37,
   "id": "0079962f-3f43-4da3-84f6-189b38e4bb47",
   "metadata": {},
   "outputs": [
    {
     "name": "stdout",
     "output_type": "stream",
     "text": [
      "SVM classification accuracy 1.0\n"
     ]
    }
   ],
   "source": [
    "\n",
    "X, y = datasets.make_blobs(n_samples=300, n_features=2, centers=2, cluster_std=1.05, random_state=40)\n",
    "y = np.where(y == 0, -1, 1)\n",
    "\n",
    "X_train, X_test, y_train, y_test = train_test_split(X, y, test_size=0.2, random_state=123)\n",
    "\n",
    "clf = SVM()\n",
    "clf.fit(X_train, y_train)\n",
    "predictions = clf.predict(X_test)\n",
    "\n",
    "def accuracy(y_true, y_pred):\n",
    "    accuracy = np.sum(y_true == y_pred) / len(y_true)\n",
    "    return accuracy\n",
    "\n",
    "print(\"SVM classification accuracy\", accuracy(y_test, predictions))"
   ]
  },
  {
   "cell_type": "code",
   "execution_count": null,
   "id": "7e28bb77-df20-4220-abe4-aac058dbb79f",
   "metadata": {},
   "outputs": [],
   "source": []
  },
  {
   "cell_type": "code",
   "execution_count": null,
   "id": "4520cd3a-c5ac-4ec7-a2b1-1f65c05e17f3",
   "metadata": {},
   "outputs": [],
   "source": []
  }
 ],
 "metadata": {
  "kernelspec": {
   "display_name": "Python 3 (ipykernel)",
   "language": "python",
   "name": "python3"
  },
  "language_info": {
   "codemirror_mode": {
    "name": "ipython",
    "version": 3
   },
   "file_extension": ".py",
   "mimetype": "text/x-python",
   "name": "python",
   "nbconvert_exporter": "python",
   "pygments_lexer": "ipython3",
   "version": "3.12.5"
  }
 },
 "nbformat": 4,
 "nbformat_minor": 5
}
