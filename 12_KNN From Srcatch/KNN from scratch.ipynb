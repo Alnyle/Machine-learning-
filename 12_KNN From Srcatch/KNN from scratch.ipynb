{
 "cells": [
  {
   "cell_type": "markdown",
   "id": "774c9629-b7bd-4549-89af-1ec5f0e1b377",
   "metadata": {},
   "source": [
    "### Build K-nearest Neightbors from scratch using Numpy"
   ]
  },
  {
   "cell_type": "markdown",
   "id": "d3512b54-fbf4-4f92-abf1-456fe4a33365",
   "metadata": {},
   "source": [
    "There are 3 species which are: `Iris Setosa`, `Iris Virginica`, `Iris Veriscolr`, we have 50 Samples for each specy, overall we have  150 samples for all species."
   ]
  },
  {
   "cell_type": "markdown",
   "id": "bb082309-92e6-4178-aaa1-72b1c9cac6fc",
   "metadata": {},
   "source": [
    "### 1. Import libraries"
   ]
  },
  {
   "cell_type": "code",
   "execution_count": 167,
   "id": "e81d0b3d-6dae-44ce-8da8-d8e40fca77b3",
   "metadata": {},
   "outputs": [],
   "source": [
    "import numpy as np\n",
    "from numpy import ndarray\n",
    "from typing import Literal\n",
    "from typing import Callable # to define function type \n",
    "from collections import Counter \n",
    "import pandas as pd \n",
    "import seaborn as sns\n",
    "import matplotlib as plt"
   ]
  },
  {
   "cell_type": "markdown",
   "id": "2130e3b1-f1a9-49ea-9167-d1611f6f44df",
   "metadata": {},
   "source": [
    "### 2. Loading the data"
   ]
  },
  {
   "cell_type": "code",
   "execution_count": 168,
   "id": "8d017fc5-43ca-4788-9565-d45897eb500a",
   "metadata": {},
   "outputs": [],
   "source": [
    "from sklearn.datasets import load_iris\n",
    "\n",
    "df = pd.read_csv('Iris.csv')"
   ]
  },
  {
   "cell_type": "code",
   "execution_count": 169,
   "id": "147f7893-412c-4915-afde-be897626cbbc",
   "metadata": {},
   "outputs": [
    {
     "data": {
      "text/html": [
       "<div>\n",
       "<style scoped>\n",
       "    .dataframe tbody tr th:only-of-type {\n",
       "        vertical-align: middle;\n",
       "    }\n",
       "\n",
       "    .dataframe tbody tr th {\n",
       "        vertical-align: top;\n",
       "    }\n",
       "\n",
       "    .dataframe thead th {\n",
       "        text-align: right;\n",
       "    }\n",
       "</style>\n",
       "<table border=\"1\" class=\"dataframe\">\n",
       "  <thead>\n",
       "    <tr style=\"text-align: right;\">\n",
       "      <th></th>\n",
       "      <th>Id</th>\n",
       "      <th>SepalLengthCm</th>\n",
       "      <th>SepalWidthCm</th>\n",
       "      <th>PetalLengthCm</th>\n",
       "      <th>PetalWidthCm</th>\n",
       "      <th>Species</th>\n",
       "    </tr>\n",
       "  </thead>\n",
       "  <tbody>\n",
       "    <tr>\n",
       "      <th>0</th>\n",
       "      <td>1</td>\n",
       "      <td>5.1</td>\n",
       "      <td>3.5</td>\n",
       "      <td>1.4</td>\n",
       "      <td>0.2</td>\n",
       "      <td>Iris-setosa</td>\n",
       "    </tr>\n",
       "    <tr>\n",
       "      <th>1</th>\n",
       "      <td>2</td>\n",
       "      <td>4.9</td>\n",
       "      <td>3.0</td>\n",
       "      <td>1.4</td>\n",
       "      <td>0.2</td>\n",
       "      <td>Iris-setosa</td>\n",
       "    </tr>\n",
       "    <tr>\n",
       "      <th>2</th>\n",
       "      <td>3</td>\n",
       "      <td>4.7</td>\n",
       "      <td>3.2</td>\n",
       "      <td>1.3</td>\n",
       "      <td>0.2</td>\n",
       "      <td>Iris-setosa</td>\n",
       "    </tr>\n",
       "    <tr>\n",
       "      <th>3</th>\n",
       "      <td>4</td>\n",
       "      <td>4.6</td>\n",
       "      <td>3.1</td>\n",
       "      <td>1.5</td>\n",
       "      <td>0.2</td>\n",
       "      <td>Iris-setosa</td>\n",
       "    </tr>\n",
       "    <tr>\n",
       "      <th>4</th>\n",
       "      <td>5</td>\n",
       "      <td>5.0</td>\n",
       "      <td>3.6</td>\n",
       "      <td>1.4</td>\n",
       "      <td>0.2</td>\n",
       "      <td>Iris-setosa</td>\n",
       "    </tr>\n",
       "  </tbody>\n",
       "</table>\n",
       "</div>"
      ],
      "text/plain": [
       "   Id  SepalLengthCm  SepalWidthCm  PetalLengthCm  PetalWidthCm      Species\n",
       "0   1            5.1           3.5            1.4           0.2  Iris-setosa\n",
       "1   2            4.9           3.0            1.4           0.2  Iris-setosa\n",
       "2   3            4.7           3.2            1.3           0.2  Iris-setosa\n",
       "3   4            4.6           3.1            1.5           0.2  Iris-setosa\n",
       "4   5            5.0           3.6            1.4           0.2  Iris-setosa"
      ]
     },
     "execution_count": 169,
     "metadata": {},
     "output_type": "execute_result"
    }
   ],
   "source": [
    "df.head(5)"
   ]
  },
  {
   "cell_type": "markdown",
   "id": "80345293-4f98-47c4-a602-2bb5fa68db86",
   "metadata": {},
   "source": [
    "let's encode our target variable first"
   ]
  },
  {
   "cell_type": "code",
   "execution_count": 170,
   "id": "f1ef4ba9-0809-42aa-9aad-ba298602a82c",
   "metadata": {},
   "outputs": [],
   "source": [
    "encoder = lambda x: {'Iris-setosa': 1, 'Iris-versicolor': 2, 'Iris-virginica': 3}.get(x, None)\n",
    "\n",
    "\n",
    "df['Species'] = df['Species'].apply(encoder)"
   ]
  },
  {
   "cell_type": "markdown",
   "id": "3599d74b-b881-47d6-8104-a7d40be47655",
   "metadata": {},
   "source": [
    "let's seqerate the data into `X` feature vector and `y` target variable"
   ]
  },
  {
   "cell_type": "code",
   "execution_count": 171,
   "id": "8161fe39-a510-4d4d-89a9-fe4d47ce6ff6",
   "metadata": {},
   "outputs": [],
   "source": [
    "X = df.drop('Species', axis=1)\n",
    "y = df['Species']"
   ]
  },
  {
   "cell_type": "code",
   "execution_count": 172,
   "id": "0a6e52ef-d0cd-4253-823f-8adfecdf5bdb",
   "metadata": {},
   "outputs": [
    {
     "name": "stdout",
     "output_type": "stream",
     "text": [
      "<class 'pandas.core.frame.DataFrame'>\n",
      "RangeIndex: 150 entries, 0 to 149\n",
      "Data columns (total 5 columns):\n",
      " #   Column         Non-Null Count  Dtype  \n",
      "---  ------         --------------  -----  \n",
      " 0   Id             150 non-null    int64  \n",
      " 1   SepalLengthCm  150 non-null    float64\n",
      " 2   SepalWidthCm   150 non-null    float64\n",
      " 3   PetalLengthCm  150 non-null    float64\n",
      " 4   PetalWidthCm   150 non-null    float64\n",
      "dtypes: float64(4), int64(1)\n",
      "memory usage: 6.0 KB\n"
     ]
    }
   ],
   "source": [
    "X.info()"
   ]
  },
  {
   "cell_type": "code",
   "execution_count": 173,
   "id": "753b711f-d407-49bb-989f-9a54ef7994ff",
   "metadata": {},
   "outputs": [
    {
     "name": "stdout",
     "output_type": "stream",
     "text": [
      "<class 'pandas.core.series.Series'>\n",
      "RangeIndex: 150 entries, 0 to 149\n",
      "Series name: Species\n",
      "Non-Null Count  Dtype\n",
      "--------------  -----\n",
      "150 non-null    int64\n",
      "dtypes: int64(1)\n",
      "memory usage: 1.3 KB\n"
     ]
    }
   ],
   "source": [
    "y.info()"
   ]
  },
  {
   "cell_type": "markdown",
   "id": "43319fdd-b1cc-4140-a3db-22278215fb60",
   "metadata": {},
   "source": [
    "### 3. Exploratory Data Anaylsis (EDA)"
   ]
  },
  {
   "cell_type": "markdown",
   "id": "2ef53abf-57e7-4b9c-b55f-502261285e89",
   "metadata": {},
   "source": [
    "before we start our EDA we need to split our data into `training data` and `testing data` because in real world not have chance to do EDA on your test it before test  your model on it."
   ]
  },
  {
   "cell_type": "markdown",
   "id": "6d4631fd-9f1c-4f67-89f1-36a497a9706f",
   "metadata": {},
   "source": [
    "before we split our data we need to drop Id column because does not provide useful information for our model"
   ]
  },
  {
   "cell_type": "code",
   "execution_count": 174,
   "id": "db6ed907-5b6f-4548-8059-4f311639daf2",
   "metadata": {},
   "outputs": [],
   "source": [
    "X = X.drop('Id', axis=1)"
   ]
  },
  {
   "cell_type": "code",
   "execution_count": 175,
   "id": "591a249b-f402-446a-a223-faf2551e07e7",
   "metadata": {},
   "outputs": [],
   "source": [
    "from sklearn.model_selection import train_test_split\n",
    "\n",
    "X_train, X_test, y_train, y_test = train_test_split(X, y, test_size=0.2, random_state=42)"
   ]
  },
  {
   "cell_type": "code",
   "execution_count": 176,
   "id": "b3a7bb6a-083d-4605-b069-b16b3e3f2967",
   "metadata": {},
   "outputs": [
    {
     "name": "stdout",
     "output_type": "stream",
     "text": [
      "training data size: 120\n",
      "testing data size: 30\n"
     ]
    }
   ],
   "source": [
    "print(f\"training data size: {X_train.shape[0]}\")\n",
    "print(f\"testing data size: {X_test.shape[0]}\")"
   ]
  },
  {
   "cell_type": "markdown",
   "id": "d2303be4-9e2e-460b-85c7-2e8301e71c96",
   "metadata": {},
   "source": [
    "let's see if our data is balance or not"
   ]
  },
  {
   "cell_type": "markdown",
   "id": "d8224f9e-92a2-4522-a4c9-ce388f172edc",
   "metadata": {},
   "source": [
    "#### 3.1 Visualize the data"
   ]
  },
  {
   "cell_type": "markdown",
   "id": "f5ab9dd0-d576-4c2c-84fa-7e1c41006cf3",
   "metadata": {},
   "source": [
    "let's plot our data using scatter plot"
   ]
  },
  {
   "cell_type": "code",
   "execution_count": 177,
   "id": "2d1d2238-3773-40a9-84b8-f881814e5940",
   "metadata": {},
   "outputs": [
    {
     "data": {
      "text/plain": [
       "<Axes: xlabel='SepalLengthCm', ylabel='SepalWidthCm'>"
      ]
     },
     "execution_count": 177,
     "metadata": {},
     "output_type": "execute_result"
    },
    {
     "data": {
      "image/png": "[encoded data removed]",
      "text/plain": [
       "<Figure size 640x480 with 1 Axes>"
      ]
     },
     "metadata": {},
     "output_type": "display_data"
    }
   ],
   "source": [
    "sns.scatterplot(data=X_train, x='SepalLengthCm', y='SepalWidthCm', hue=y_train)"
   ]
  },
  {
   "cell_type": "code",
   "execution_count": 178,
   "id": "55f61b2b-5dde-4f6d-89d6-6cee69409421",
   "metadata": {},
   "outputs": [
    {
     "data": {
      "text/plain": [
       "<Axes: xlabel='PetalLengthCm', ylabel='PetalWidthCm'>"
      ]
     },
     "execution_count": 178,
     "metadata": {},
     "output_type": "execute_result"
    },
    {
     "data": {
      "image/png": "[encoded data removed]",
      "text/plain": [
       "<Figure size 640x480 with 1 Axes>"
      ]
     },
     "metadata": {},
     "output_type": "display_data"
    }
   ],
   "source": [
    "sns.scatterplot(data=X_train, x='PetalLengthCm', y='PetalWidthCm', hue=y_train)"
   ]
  },
  {
   "cell_type": "markdown",
   "id": "1c5ace06-a057-4ddc-8bbd-82f6d6dd359b",
   "metadata": {},
   "source": [
    "### 4. Data Cleaning"
   ]
  },
  {
   "cell_type": "markdown",
   "id": "59a9448d-859d-413a-9738-bb6485bab9e6",
   "metadata": {},
   "source": [
    "since there no missing values in our data there no need to handle missing values"
   ]
  },
  {
   "cell_type": "code",
   "execution_count": 179,
   "id": "08bd444e-c991-4bab-8e74-5133d223aab3",
   "metadata": {},
   "outputs": [
    {
     "name": "stdout",
     "output_type": "stream",
     "text": [
      "<class 'pandas.core.frame.DataFrame'>\n",
      "Index: 120 entries, 22 to 102\n",
      "Data columns (total 4 columns):\n",
      " #   Column         Non-Null Count  Dtype  \n",
      "---  ------         --------------  -----  \n",
      " 0   SepalLengthCm  120 non-null    float64\n",
      " 1   SepalWidthCm   120 non-null    float64\n",
      " 2   PetalLengthCm  120 non-null    float64\n",
      " 3   PetalWidthCm   120 non-null    float64\n",
      "dtypes: float64(4)\n",
      "memory usage: 4.7 KB\n"
     ]
    }
   ],
   "source": [
    "X_train.info()"
   ]
  },
  {
   "cell_type": "markdown",
   "id": "7d269997-a3b4-40b5-b843-744539ddd862",
   "metadata": {},
   "source": [
    "### 5. Build the model \n",
    "let's now build `kNN` model from scratch"
   ]
  },
  {
   "cell_type": "code",
   "execution_count": 180,
   "id": "bf1bc41b-a561-409a-93d3-90004b40c69f",
   "metadata": {},
   "outputs": [],
   "source": [
    "class KNN:\n",
    "    '''\n",
    "     distance_metric variable can take three integer values :\n",
    "     distance_metric = 1 : Euclidean Distance \n",
    "     distance_metric = 2 : Manhattan Distance \n",
    "     distance_metric = 3 : Cosine distance \n",
    "    '''\n",
    "    \n",
    "    def __init__(self, n_neighbors: int = 1, distance_metric: Literal[1, 2, 3]=1) -> None:\n",
    "        self.n_neighbors = n_neighbors\n",
    "        self.X = None\n",
    "        self.y = None\n",
    "        self.distance_metric = distance_metric\n",
    "        \n",
    "\n",
    "\n",
    "    def fit(self, X: np.ndarray, y: np.ndarray) -> None:\n",
    "        self.X = X\n",
    "        self.y = y\n",
    "  \n",
    "        if not isinstance(self.X, np.ndarray):\n",
    "            self.X = np.array(self.X)\n",
    "\n",
    "        if not isinstance(self.y, np.ndarray):\n",
    "            self.y = np.array(self.y)\n",
    "\n",
    "\n",
    "    def predict(self, X: ndarray) -> ndarray:\n",
    "        '''\n",
    "        loop over every simple and predict it's label\n",
    "        '''\n",
    "\n",
    "        predict = []\n",
    "\n",
    "        \n",
    "        for x in X:\n",
    "            predict.append(self.predict_x(x))\n",
    "\n",
    "        return  np.array(predict)\n",
    "\n",
    "    def predict_x(self, xi):\n",
    "        '''\n",
    "        predict simple label by calculating the distance between the current simple\n",
    "        from all simples and select the closet k neighbor\n",
    "        '''\n",
    "        \n",
    "        dist = []\n",
    "        if self.distance_metric == 1:\n",
    "            for yi in self.X:\n",
    "                dist.append(self.euclidean_dis(xi, yi))  \n",
    "        elif self.distance_metric == 2:\n",
    "            for yi in self.X:\n",
    "                dist.append(self.manhattan_dis(xi, yi)) \n",
    "        elif self.distance_metric == 3:\n",
    "            for yi in self.X:\n",
    "                dist.append(self.cos_distance(xi, yi)) \n",
    "        \n",
    "        dist = np.array(dist) \n",
    "\n",
    "                \n",
    "        dis = np.array(dist)\n",
    "        \n",
    "        # sort neighbors  \n",
    "        neighbor_indexs = np.argsort(dist)\n",
    "\n",
    "        # select K-neareast neighbors\n",
    "        nearest_neighbors_indexs = neighbor_indexs[:self.n_neighbors]\n",
    "\n",
    "        \n",
    "        \n",
    "        neighbors_labels = []\n",
    "        \n",
    "        for i in nearest_neighbors_indexs:\n",
    "            neighbors_labels.append(self.y[i])\n",
    "\n",
    "    \n",
    "        return self.most_frequent_neigbor(neighbors_labels)\n",
    "\n",
    "    def euclidean_dis(self, x: ndarray, y: ndarray) -> float:\n",
    "        return np.sqrt(np.sum(x - y) * np.sum(x - y))\n",
    "        \n",
    "    def manhattan_dis(self, x: ndarray, y: ndarray) -> float:\n",
    "        return np.absolute(np.sum(x - y))\n",
    "\n",
    "    def cos_distance(self, x: ndarray, y: ndarray) -> float: \n",
    "        numerator = np.dot(x, y)\n",
    "        norm_x = np.linalg.norm(x)\n",
    "        norm_y = np.linalg.norm(y)\n",
    "        denominator = norm_x * norm_y\n",
    "        \n",
    "        return 1 - numerator / denominator\n",
    "\n",
    "    def most_frequent_neigbor(self, neigbors):\n",
    "        '''\n",
    "        count the frequence of each element and return\n",
    "        the most common neigbor\n",
    "        '''\n",
    "        occur_counter = Counter(neigbors)\n",
    "        return  occur_counter.most_common()[0][0] \n",
    "\n",
    "\n",
    "    def accuracy_score(self, x_feature: ndarray, y_target:ndarray) -> None:\n",
    "\n",
    "        \n",
    "        if not isinstance(x_feature, np.ndarray):\n",
    "            x_feature = np.array(x_feature)\n",
    "\n",
    "        if not isinstance(y_target, np.ndarray):\n",
    "            y_target = np.array(y_target)\n",
    "        \n",
    "        y_pred = self.predict(x_feature)\n",
    "        print(f\"Accuracy: {np.mean(y_pred == y_target)}\")\n",
    "\n",
    "        if self.distance_metric == 1:\n",
    "            print(\"distance metric: Euclidean Distance\")\n",
    "        elif self.distance_metric == 2:\n",
    "            print(\"distance metric: Manhattan Distance\")\n",
    "        elif self.distance_metric == 3:\n",
    "            print(\"distance metric: Cosine distance\")\n"
   ]
  },
  {
   "cell_type": "markdown",
   "id": "9d46ce19-6609-49d8-8e68-3dbdf5537f32",
   "metadata": {},
   "source": [
    "### 6. Train the model"
   ]
  },
  {
   "cell_type": "code",
   "execution_count": 181,
   "id": "66080e59-ca19-4299-899c-b610d7c5c0eb",
   "metadata": {},
   "outputs": [],
   "source": [
    "model1 = KNN(n_neighbors=3, distance_metric=1)\n",
    "model2 = KNN(n_neighbors=3, distance_metric=2)\n",
    "model3 = KNN(n_neighbors=3, distance_metric=3)"
   ]
  },
  {
   "cell_type": "markdown",
   "id": "dcf54336-6eba-4dc7-bd8d-92f2e823dded",
   "metadata": {},
   "source": [
    "### 7. Evaluating the KNN"
   ]
  },
  {
   "cell_type": "code",
   "execution_count": 182,
   "id": "268bd7ff-93cb-4597-b9ce-b49de7d9935a",
   "metadata": {},
   "outputs": [],
   "source": [
    "model1.fit(X_train, y_train)\n",
    "model2.fit(X_train, y_train)\n",
    "model3.fit(X_train, y_train)"
   ]
  },
  {
   "cell_type": "code",
   "execution_count": 183,
   "id": "85469b1b-18d4-4964-9bc8-425f713f06c5",
   "metadata": {},
   "outputs": [
    {
     "name": "stdout",
     "output_type": "stream",
     "text": [
      "Accuracy: 0.9\n",
      "distance metric: Euclidean Distance\n",
      "Accuracy: 0.9\n",
      "distance metric: Manhattan Distance\n",
      "Accuracy: 0.9666666666666667\n",
      "distance metric: Cosine distance\n"
     ]
    }
   ],
   "source": [
    "model1.accuracy_score(X_test, y_test)\n",
    "model2.accuracy_score(X_test, y_test)\n",
    "model3.accuracy_score(X_test, y_test)"
   ]
  },
  {
   "cell_type": "code",
   "execution_count": null,
   "id": "50256c75-cac8-4adb-a316-c35e7154501b",
   "metadata": {},
   "outputs": [],
   "source": []
  }
 ],
 "metadata": {
  "kernelspec": {
   "display_name": "Python 3 (ipykernel)",
   "language": "python",
   "name": "python3"
  },
  "language_info": {
   "codemirror_mode": {
    "name": "ipython",
    "version": 3
   },
   "file_extension": ".py",
   "mimetype": "text/x-python",
   "name": "python",
   "nbconvert_exporter": "python",
   "pygments_lexer": "ipython3",
   "version": "3.12.5"
  }
 },
 "nbformat": 4,
 "nbformat_minor": 5
}
