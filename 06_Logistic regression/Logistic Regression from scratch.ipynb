{
 "cells": [
  {
   "cell_type": "code",
   "execution_count": 71,
   "id": "457befe3-acb6-42f5-845e-d80adef82ac9",
   "metadata": {},
   "outputs": [],
   "source": [
    "import numpy as np\n",
    "from sklearn.model_selection import train_test_split\n",
    "from sklearn import datasets\n",
    "import matplotlib.pyplot as plt"
   ]
  },
  {
   "cell_type": "code",
   "execution_count": 99,
   "id": "c71b1a7e-f9f5-4c39-a148-1697a69a9999",
   "metadata": {},
   "outputs": [],
   "source": [
    "class LogisticRegression:\n",
    "    def __init__(self, lr: float = 0.001, n_iters: int = 1000) -> None:\n",
    "        self.lr = lr\n",
    "        self.n_iters = n_iters\n",
    "        self.weights = None\n",
    "        self.bias = None\n",
    "\n",
    "    def sigmoid(self, x):\n",
    "        x = np.clip(x, -500, 500)\n",
    "        return 1/(1 + np.exp(-x))\n",
    "    \n",
    "    def fit(self, X, y):\n",
    "        n_samples, n_features = X.shape\n",
    "        self.weights = np.random.rand(n_features)\n",
    "        self.bias = 0\n",
    "        \n",
    "        for i in range(self.n_iters):\n",
    "\n",
    "            linear_pred = np.dot(X, self.weights) + self.bias\n",
    "            predictions = self.sigmoid(linear_pred)\n",
    "  \n",
    "            dw = (1/n_samples) * np.dot(X.T, predictions - y)\n",
    "            db = (1/n_samples) * np.sum(predictions - y)\n",
    "            self.weights = self.weights - self.lr * dw \n",
    "            self.bias = self.bias - self.lr * db\n",
    "\n",
    "    def predict(self, X):\n",
    "        linear_pred = np.dot(X, self.weights) + self.bias\n",
    "        y_pred = self.sigmoid(linear_pred)\n",
    "        class_pred = [0 if y <= 0.5 else 1 for y in y_pred]\n",
    "        return class_pred\n",
    "            \n",
    "                    "
   ]
  },
  {
   "cell_type": "code",
   "execution_count": 100,
   "id": "e5fe31ae-ffb9-430c-8275-add9d44229de",
   "metadata": {},
   "outputs": [],
   "source": [
    "bc = datasets.load_breast_cancer() # import breast can"
   ]
  },
  {
   "cell_type": "code",
   "execution_count": 101,
   "id": "98681c65-07da-410f-aa23-65439884b9d1",
   "metadata": {},
   "outputs": [],
   "source": [
    "X, y = bc.data, bc.target"
   ]
  },
  {
   "cell_type": "code",
   "execution_count": 102,
   "id": "4f5c3f21-e503-4f4f-99b8-3630759d805c",
   "metadata": {},
   "outputs": [],
   "source": [
    "X_train, X_test, y_train, y_test = train_test_split(X, y, test_size=0.2, random_state=42)"
   ]
  },
  {
   "cell_type": "code",
   "execution_count": 109,
   "id": "c99460c5-7466-41a6-995d-11b798ababbd",
   "metadata": {},
   "outputs": [],
   "source": [
    "clf = LogisticRegression(lr=.1)\n",
    "clf.fit(X_train, y_train)\n",
    "y_pred = clf.predict(X_test)"
   ]
  },
  {
   "cell_type": "code",
   "execution_count": 110,
   "id": "d76c6047-9f1f-4517-a5ef-008e6a027018",
   "metadata": {},
   "outputs": [],
   "source": [
    "def accuracy(y_pred, y_test):\n",
    "    return np.sum(y_pred == y_test)/len(y_test)"
   ]
  },
  {
   "cell_type": "code",
   "execution_count": 111,
   "id": "68804b9e-0d0b-4d6a-b678-bf1ec18f8865",
   "metadata": {},
   "outputs": [
    {
     "name": "stdout",
     "output_type": "stream",
     "text": [
      "0.9473684210526315\n"
     ]
    }
   ],
   "source": [
    "acc = accuracy(y_pred, y_test)\n",
    "print(acc)"
   ]
  },
  {
   "cell_type": "code",
   "execution_count": null,
   "id": "1ea76f34-e4ed-4d85-8ae5-535f4a608613",
   "metadata": {},
   "outputs": [],
   "source": []
  },
  {
   "cell_type": "code",
   "execution_count": null,
   "id": "2a6a966a-b025-4a6d-8394-3d47faa51c7d",
   "metadata": {},
   "outputs": [],
   "source": []
  },
  {
   "cell_type": "code",
   "execution_count": null,
   "id": "ae934e5a-f202-4e8a-8393-8cfe01baeac4",
   "metadata": {},
   "outputs": [],
   "source": []
  },
  {
   "cell_type": "code",
   "execution_count": null,
   "id": "5ec40396-7104-4bb1-aba4-ab1dda29a054",
   "metadata": {},
   "outputs": [],
   "source": []
  }
 ],
 "metadata": {
  "kernelspec": {
   "display_name": "Python 3 (ipykernel)",
   "language": "python",
   "name": "python3"
  },
  "language_info": {
   "codemirror_mode": {
    "name": "ipython",
    "version": 3
   },
   "file_extension": ".py",
   "mimetype": "text/x-python",
   "name": "python",
   "nbconvert_exporter": "python",
   "pygments_lexer": "ipython3",
   "version": "3.12.5"
  }
 },
 "nbformat": 4,
 "nbformat_minor": 5
}
